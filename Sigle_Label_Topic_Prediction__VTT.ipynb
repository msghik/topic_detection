{
  "nbformat": 4,
  "nbformat_minor": 0,
  "metadata": {
    "colab": {
      "provenance": []
    },
    "kernelspec": {
      "name": "python3",
      "display_name": "Python 3"
    },
    "language_info": {
      "name": "python"
    }
  },
  "cells": [
    {
      "cell_type": "code",
      "source": [
        "# !pip install hazm"
      ],
      "metadata": {
        "id": "7YWmZ2-EUZSj"
      },
      "execution_count": null,
      "outputs": []
    },
    {
      "cell_type": "code",
      "execution_count": null,
      "metadata": {
        "id": "aJrAeWOnarY8"
      },
      "outputs": [],
      "source": [
        "import pandas as pd\n",
        "import re\n",
        "import numpy as np\n",
        "import matplotlib.pyplot as plt\n",
        "\n",
        "from sklearn.model_selection import train_test_split, GridSearchCV\n",
        "from sklearn.pipeline import Pipeline\n",
        "from sklearn.linear_model import LogisticRegression\n",
        "from sklearn.feature_extraction.text import TfidfVectorizer\n",
        "from sklearn.metrics import classification_report, accuracy_score, confusion_matrix\n",
        "from sklearn.preprocessing import LabelEncoder\n"
      ]
    },
    {
      "cell_type": "code",
      "source": [
        "from hazm import Normalizer, word_tokenize, stopwords_list\n",
        "\n",
        "data = pd.read_csv('/content/csv (1).csv')\n",
        "\n",
        "normalizer = Normalizer()\n",
        "\n",
        "\n",
        "def clean_text_farsi(text):\n",
        "\n",
        "    text = normalizer.normalize(text)\n",
        "    tokens = word_tokenize(text)\n",
        "    stop_words = set(stopwords_list())\n",
        "    tokens = [word for word in tokens if word not in stop_words]\n",
        "    text = ' '.join(tokens)\n",
        "    return text\n",
        "\n",
        "data['question_clean'] = data['question'].apply(clean_text_farsi)"
      ],
      "metadata": {
        "id": "vqp0QxG0b2Cw"
      },
      "execution_count": null,
      "outputs": []
    },
    {
      "cell_type": "code",
      "source": [
        "le = LabelEncoder()\n",
        "y = le.fit_transform(data['button'])\n",
        "\n",
        "\n",
        "X_train_text, X_test_text, y_train, y_test = train_test_split(\n",
        "    data['question_clean'], y, test_size=0.2, random_state=42\n",
        ")\n",
        "\n",
        "\n",
        "pipeline = Pipeline([\n",
        "    ('tfidf', TfidfVectorizer()),\n",
        "    ('clf', LogisticRegression(max_iter=1000))\n",
        "])\n",
        "\n",
        "param_grid = {\n",
        "    'tfidf__ngram_range': [(1, 1), (1, 2)],  # Unigrams vs. Unigrams + Bigrams\n",
        "    'clf__C': [0.01, 0.1, 1, 10, 100]\n",
        "}\n",
        "\n",
        "# Run grid search with 5-fold cross-validation\n",
        "grid_search_pipe = GridSearchCV(pipeline, param_grid, cv=5, scoring='accuracy')\n",
        "grid_search_pipe.fit(X_train_text, y_train)\n",
        "\n",
        "print(\"Best parameters:\", grid_search_pipe.best_params_)\n",
        "print(\"Best cross-validation accuracy:\", grid_search_pipe.best_score_)\n",
        "\n"
      ],
      "metadata": {
        "colab": {
          "base_uri": "https://localhost:8080/"
        },
        "id": "iRZ1b8FPb8AP",
        "outputId": "87d1d627-a345-4a5f-8003-cfc9413d60c2"
      },
      "execution_count": null,
      "outputs": [
        {
          "output_type": "stream",
          "name": "stdout",
          "text": [
            "Best parameters: {'clf__C': 10, 'tfidf__ngram_range': (1, 1)}\n",
            "Best cross-validation accuracy: 0.9298870056497174\n"
          ]
        }
      ]
    },
    {
      "cell_type": "code",
      "source": [
        "y_pred_pipe = grid_search_pipe.predict(X_test_text)\n",
        "\n",
        "print(\"\\nTest set accuracy:\", accuracy_score(y_test, y_pred_pipe))\n",
        "print(\"Classification Report on Test Set:\\n\",\n",
        "      classification_report(y_test, y_pred_pipe, target_names=le.classes_))\n",
        "\n",
        "cm = confusion_matrix(y_test, y_pred_pipe)\n",
        "\n",
        "plt.figure(figsize=(10, 8))\n",
        "plt.imshow(cm, interpolation='nearest', cmap=plt.cm.Blues)\n",
        "plt.title(\"Confusion Matrix\")\n",
        "plt.colorbar()\n",
        "tick_marks = np.arange(len(le.classes_))\n",
        "plt.xticks(tick_marks, le.classes_, rotation=45)\n",
        "plt.yticks(tick_marks, le.classes_)\n",
        "\n",
        "# Annotate each cell with the count\n",
        "thresh = cm.max() / 2.\n",
        "for i in range(cm.shape[0]):\n",
        "    for j in range(cm.shape[1]):\n",
        "        plt.text(j, i, format(cm[i, j], 'd'),\n",
        "                 horizontalalignment=\"center\",\n",
        "                 color=\"white\" if cm[i, j] > thresh else \"black\")\n",
        "plt.ylabel('True Label')\n",
        "plt.xlabel('Predicted Label')\n",
        "plt.tight_layout()\n",
        "plt.show()\n"
      ],
      "metadata": {
        "colab": {
          "base_uri": "https://localhost:8080/",
          "height": 1000
        },
        "id": "w7QJg8pqcDVp",
        "outputId": "290d16af-8f64-4f7a-e813-04e96a0deb98"
      },
      "execution_count": null,
      "outputs": [
        {
          "output_type": "stream",
          "name": "stdout",
          "text": [
            "\n",
            "Test set accuracy: 0.8933333333333333\n",
            "Classification Report on Test Set:\n",
            "                 precision    recall  f1-score   support\n",
            "\n",
            "         ابطال       0.92      1.00      0.96        22\n",
            " ثبت نام حقیقی       0.88      0.70      0.78        10\n",
            "        دارایی       0.00      0.00      0.00         1\n",
            "           سود       0.92      0.92      0.92        12\n",
            "          صدور       0.90      0.90      0.90        21\n",
            "پروفایل کاربری       0.67      1.00      0.80         2\n",
            "     گردش حساب       0.86      0.86      0.86         7\n",
            "\n",
            "      accuracy                           0.89        75\n",
            "     macro avg       0.73      0.77      0.74        75\n",
            "  weighted avg       0.88      0.89      0.89        75\n",
            "\n"
          ]
        },
        {
          "output_type": "stream",
          "name": "stderr",
          "text": [
            "/usr/local/lib/python3.11/dist-packages/sklearn/metrics/_classification.py:1565: UndefinedMetricWarning: Precision is ill-defined and being set to 0.0 in labels with no predicted samples. Use `zero_division` parameter to control this behavior.\n",
            "  _warn_prf(average, modifier, f\"{metric.capitalize()} is\", len(result))\n",
            "/usr/local/lib/python3.11/dist-packages/sklearn/metrics/_classification.py:1565: UndefinedMetricWarning: Precision is ill-defined and being set to 0.0 in labels with no predicted samples. Use `zero_division` parameter to control this behavior.\n",
            "  _warn_prf(average, modifier, f\"{metric.capitalize()} is\", len(result))\n",
            "/usr/local/lib/python3.11/dist-packages/sklearn/metrics/_classification.py:1565: UndefinedMetricWarning: Precision is ill-defined and being set to 0.0 in labels with no predicted samples. Use `zero_division` parameter to control this behavior.\n",
            "  _warn_prf(average, modifier, f\"{metric.capitalize()} is\", len(result))\n"
          ]
        },
        {
          "output_type": "display_data",
          "data": {
            "text/plain": [
              "<Figure size 1000x800 with 2 Axes>"
            ],
            "image/png": "[encoded data removed]"
          },
          "metadata": {}
        }
      ]
    },
    {
      "cell_type": "code",
      "source": [
        "best_vectorizer = grid_search_pipe.best_estimator_.named_steps['tfidf']\n",
        "best_clf = grid_search_pipe.best_estimator_.named_steps['clf']\n",
        "\n",
        "feature_names = best_vectorizer.get_feature_names_out()\n",
        "coef = best_clf.coef_\n",
        "\n",
        "for i, class_label in enumerate(le.classes_):\n",
        "    if i < coef.shape[0]:  # Check if i is within bounds of coef\n",
        "        top_n = 5\n",
        "        top_feature_indices = np.argsort(coef[i])[-top_n:][::-1]\n",
        "        top_features = feature_names[top_feature_indices]\n",
        "        print(f\"Top features for class '{class_label}': {top_features}\")"
      ],
      "metadata": {
        "colab": {
          "base_uri": "https://localhost:8080/"
        },
        "id": "df6yixLpcGhs",
        "outputId": "6d266389-d5ec-4e00-c0aa-09fe12eeebf2"
      },
      "execution_count": null,
      "outputs": [
        {
          "output_type": "stream",
          "name": "stdout",
          "text": [
            "Top features for class 'ابطال': ['ابطال' 'فروش' 'کار' 'پول' 'واحد']\n",
            "Top features for class 'ثبت نام حقیقی': ['نام' 'سرمایه' 'ثبت' 'مشترک' 'حساب']\n",
            "Top features for class 'دارایی': ['سود' 'محاسبه' 'ماه' 'سودم' 'میشه']\n",
            "Top features for class 'سود': ['صدور' 'افزایش' 'مبلغ' 'لوتوس' 'دارایی']\n",
            "Top features for class 'صدور': ['شماره' 'تلفن' 'انتخاب' 'روشی' 'شرکت']\n",
            "Top features for class 'پروفایل کاربری': ['گردش' 'دریافت' 'تمکن' 'ارائه' 'حساب']\n"
          ]
        }
      ]
    },
    {
      "cell_type": "code",
      "source": [
        "import joblib\n",
        "\n",
        "label_mapping = dict(enumerate(le.classes_))\n",
        "\n",
        "# Save both the trained pipeline and label mapping together\n",
        "model_data = {\n",
        "    'model': grid_search_pipe,\n",
        "    'label_mapping': label_mapping\n",
        "}\n",
        "joblib.dump(model_data, 'model_with_labels.pkl')"
      ],
      "metadata": {
        "colab": {
          "base_uri": "https://localhost:8080/"
        },
        "id": "ELPdNSpIrlXO",
        "outputId": "bfba3919-3e36-4d55-c90d-c34a481b88c8"
      },
      "execution_count": null,
      "outputs": [
        {
          "output_type": "execute_result",
          "data": {
            "text/plain": [
              "['model_with_labels.pkl']"
            ]
          },
          "metadata": {},
          "execution_count": 11
        }
      ]
    },
    {
      "cell_type": "code",
      "source": [
        "new_texts = [\n",
        "    \"نحوه محاسبه سود صندوق را اعلام کنید ؟\",\n",
        "    \"کی سود نیکوکاری رویان را میریزید ؟\",\n",
        "    \"چه روزی برای ابطال در صندوق نیکوکاری رویان شامل سود کامل می شود ؟\",\n",
        "    \"سلام وقتتون بخیر شهیدی هستم بفرمایین سلام خانم خسته نباشین عذرخواهی میکنم من یه پنج دقیقه پیش با دوتا هم کار از اون صحبت کردم ولی یه چندی توضیح نشده هم میشه مزاحمتون شدم بله بفرمایین اره خانم نرخی صدور ابطاله دون شما چی میاد رو سیستم نرخ صدور ابطال بله عذرخواهی میکنم بذار من توضیح بدم منظرات رو خانم من بیست تومن هشتاد و هشت میلیون\",\n",
        "    \"سلام وقتتون بخیر غیبی هستم. الو سلام خسته نباشید. سلامت باشین بفرمایید. عذرخواهی می‌کنم من یه حساب باز کرده بودم بعد الان رمز چیزمو رمز عبورم یادم رفته. سرکار خانم اگه شما رمزتون رو فراموش کردید شما فقط رمز عبور رو می‌زنید یه کد بازیابی به شماره موبایلتون ۰۹۰۵ سه رقم آخر ۹۳۲ ارسال میشه کد بازیابی که براتون ارسال شد شما کد بازیابی رو وارد می‌کنید پایینش زده رمز عبور جدید تکرار رمز عبور یه رمز عبور جدید هشت رقمی برای خودتون می‌سازید که سعی کنید از هشت تا عدد استفاده کنید از حروف استفاده نکنید رمز عبور جدیدتون رو که ساختید مجدداً برمی‌گردیم به صفحه قبلی‌تون کد کاربریتون که همیشه کد ملیتونه رمز عبور هم میشه رمزی که برای خودتون جدید ساختید و با اون وارد پنل کاربری لوتوستون میشید. آها بعد اینکه من سیمکارتی که این پور‌تالم روش باز اون حسابم روش بوده الان خاموشه امکانش هست که کلا بخاطر اینکه سیمکارتم خاموشه بالا نمیاد چون رمزی که من می‌زنم حالت چشمی اگه می‌دونین دیگه من زدم رمزم بالا اومد ولی خب شک دارم اینه اونه چون هر سرکار خانم اگه این شماره موبایلتون در دسترس نیست خب میتونین اول وارد سامانه سجام بشید شماره موبایل جدیدتون رو سامانه سجام ثبت بکنید شماره موبایل جدیدی تون رو که سامانه سجام ثبت کردید بعد از گذشت ۲۴ ساعت وارد لوتوس بشید گزینه ورود به سامانه رو که بزنید پایین صفحه زده به روز رسانی اطلاعات از طریق سجام اونو که بزنید یه کد برای شماره موبایل جدیدتون به سامانه سجام ارسال میشه اون کد رو که وارد کردید شماره موبایلتون تو لوتوس تغییر پیدا می‌کنه و بعد از اینکه شماره موبایلتون تو لوتوس تغییر پیدا کرد شما فراموشی رمز عبور رو میزنید و تمام مراحلی که عرض کردم خدمتتون رو انجام میدین رمز عبور جدید جدیدتون رو می‌سازید و وارد پنل کاربریتون میشید. نه مشکل نداره حالا سیمکارتمو دارم فوقش روشن می‌کنم چون می‌خوام یه مقدار پول بخوابونم به حساب به خاطر همین البته اگه می‌خواین صدور انجام بدید سرکار خانم برای صندوق لوتوس شما شنبه ۲۷م صدور انجام بدید. آها که بخاطر سود الان چند درصد شده؟ سود صندوق لوتوس برای یک دوره کامل سرکار خانم ۲۳ درصد سالانه است که ماهانه پرداخت میشه. درسته آره داشتم. ۲۱م تا ۲۴م کلا روز مناسب برای سرمایه گذاری نیست چون هم نرخ صدور بالاتره و هم اینکه چهار روز ماندگاری تا پایان دوره حفظ نمیشه که باید بهتون سود تعلق بگیره. آها پس همون ۲۷م اینا خیلی بهتره. انجام بدین بله. درسته. خیلی ممنون آقا لطف کردین. پس من نیازی نیست دیگه تا بانک بیام یا اقدام کنم برای چیزی دیگه همین خودم می‌تونم مشکلمو حل کنم. خیلی ممنون لطف کردید آقا. خواهش می‌کنم خدانگهدار. سلامت باشید خداحافظ.\",\n",
        "    \"\"\"سلام وقت بخیر. بفرمایید.\n",
        "سلام. وقت شما هم بخیر باشه. مرسی.\n",
        "ببخشید من امروز یه دونه سهم یه دونه چون میخواستم رند بشه سهمم ۱۱۰ تومنی خریدم ولی تو حسابم ننشسته. یعنی داخل چیز مشاهده‌ش نمی‌کنم. چرا؟\n",
        "به نام آقای امیر منوچهری؟\n",
        "بله بله.\n",
        "کی صدور انجام دادید؟\n",
        "فکر می‌کنم صبح بود انجام دادم.\n",
        "منم اینجا صدور براتون اینجا مشاهده نمیکنم. تو قسمت درخواستاتون صدورتون رو مشاهده کردید؟\n",
        "من نه. ندیدمش.\n",
        "مبلغ از حسابتون کسر شد؟\n",
        "بله.\n",
        "اجازه بدید انتقال‌تون میدم بخش صدور صندوق اونجا از همکارا سوالتون رو بکنید. چون من اینجا دارم نگاه میکنم صدوری برای شما نمی‌بینم جناب. یه لحظه اجازه بدید.\n",
        "بله بفرمایید.\n",
        "سلام. خسته نباشید.\n",
        "سلامت باشید. ممنون متشکر.\n",
        "ببخشید من یه صدور زدم صبح ساعت ۹ و ۱۰ دقیقه از حسابم کسر شده ولی تو داشبورد نمی‌بینمش. با همکار صحبت کردم.\n",
        "تو داشبورد که نمایش نمی‌ده. تو داشبورد روز کاری بعد به دارایی‌تون اضافه میشه. الان تو قسمت صدور.\n",
        "خب می‌دونم ولی مثلا می‌نویسه که مثلا من یه صدور داشتم. درسته؟\n",
        "در جریان صدور می‌زنه ولی بعضی وقتا اون در جریان صدور طول می‌کشه. آقای امیر منوچهری یه صدور داشتن ساعت ۹:۲۵ دقیقه به مبلغ ۱۱۰ هزار تومن براشون ثبت شد.\n",
        "بله بله.\n",
        "بله.\n",
        "آها پس مشکلی نداره درسته؟\n",
        "نه مشکلی نداره فردا به دارایی‌تون اضافه میشه.\n",
        "ممنونم. زنده باشید.\n",
        "خواهش میکنم. قربان شما. خدانگهدار.\n",
        "خداحافظ.\n",
        "\"\"\",\n",
        "\"\"\"سلام وقت بخیر آقای غریبی هستم بفرمایید. سلام، وقت شما هم بخیر. می بخشید یه سوالی داشتم. می خواستم ببینم یک میلیارد ماهانه چند سودشه؟\n",
        " برای شش ماهه دوم سال که دوره ۳۰ روزه، آره. که ۱۹ میلیون تومن،\n",
        " بابت شش ماهه اول سال که دوره ۳۱ روزه، ۱۹ میلیون و ۵۰۰ هزار تومن. ۵۰۰ تومن فرق می کنه. بله، بله.\n",
        " تشکر می کنم. لطف کردید. خواهش می کنم. خدانگهدار.\n",
        " خدانگهدار.\n",
        "\"\"\"\n",
        "]\n",
        "\n",
        "model_data = joblib.load('model_with_labels.pkl')\n",
        "loaded_model = model_data['model']\n",
        "label_mapping = model_data['label_mapping']\n",
        "\n",
        "predictions = loaded_model.predict(new_texts)\n",
        "predicted_labels = [label_mapping[pred] for pred in predictions]\n",
        "print(predicted_labels)\n"
      ],
      "metadata": {
        "colab": {
          "base_uri": "https://localhost:8080/"
        },
        "id": "QNTHRUbcrm7-",
        "outputId": "02c35d81-4f8d-4ece-97a1-f1d864ff8f5a"
      },
      "execution_count": null,
      "outputs": [
        {
          "output_type": "stream",
          "name": "stdout",
          "text": [
            "['سود', 'سود', 'ابطال', 'ابطال', 'پروفایل کاربری', 'صدور', 'سود']\n"
          ]
        }
      ]
    },
    {
      "cell_type": "markdown",
      "source": [
        "# NNs"
      ],
      "metadata": {
        "id": "-ESQd-95s4Br"
      }
    },
    {
      "cell_type": "code",
      "source": [
        "# If you're running locally or in Colab and need these:\n",
        "# !pip install hazm tensorflow scikit-learn matplotlib joblib\n",
        "\n",
        "import pandas as pd\n",
        "import numpy as np\n",
        "import matplotlib.pyplot as plt\n",
        "import re\n",
        "\n",
        "from hazm import Normalizer, word_tokenize, stopwords_list\n",
        "\n",
        "from sklearn.model_selection import train_test_split\n",
        "from sklearn.preprocessing import LabelEncoder\n",
        "from sklearn.feature_extraction.text import TfidfVectorizer\n",
        "from sklearn.metrics import classification_report, accuracy_score, confusion_matrix\n",
        "\n",
        "import tensorflow as tf\n",
        "from tensorflow.keras import Sequential\n",
        "from tensorflow.keras.layers import Dense, Dropout\n",
        "\n",
        "import joblib\n"
      ],
      "metadata": {
        "id": "pFKI4IMAs6Sb"
      },
      "execution_count": null,
      "outputs": []
    },
    {
      "cell_type": "code",
      "source": [
        "# Load your CSV data\n",
        "data = pd.read_csv('/content/csv (1).csv')  # Adjust the path if needed\n",
        "\n",
        "normalizer = Normalizer()\n",
        "\n",
        "def clean_text_farsi(text):\n",
        "    text = normalizer.normalize(text)\n",
        "    tokens = word_tokenize(text)\n",
        "    stop_words = set(stopwords_list())\n",
        "    tokens = [word for word in tokens if word not in stop_words]\n",
        "    return ' '.join(tokens)\n",
        "\n",
        "data['question_clean'] = data['question'].apply(clean_text_farsi)\n",
        "\n",
        "# Encode labels\n",
        "le = LabelEncoder()\n",
        "y = le.fit_transform(data['button'])\n"
      ],
      "metadata": {
        "id": "FBDJvMN_s7s3"
      },
      "execution_count": null,
      "outputs": []
    },
    {
      "cell_type": "code",
      "source": [
        "X_train_text, X_test_text, y_train, y_test = train_test_split(\n",
        "    data['question_clean'],\n",
        "    y,\n",
        "    test_size=0.2,\n",
        "    random_state=42\n",
        ")\n",
        "\n",
        "# Initialize and fit TF-IDF on the training set\n",
        "tfidf = TfidfVectorizer(ngram_range=(1,2))\n",
        "X_train_tfidf = tfidf.fit_transform(X_train_text)\n",
        "X_test_tfidf = tfidf.transform(X_test_text)\n",
        "\n",
        "print(\"TF-IDF training data shape:\", X_train_tfidf.shape)\n",
        "print(\"TF-IDF test data shape:\", X_test_tfidf.shape)\n"
      ],
      "metadata": {
        "colab": {
          "base_uri": "https://localhost:8080/"
        },
        "id": "SF4xoDuXtawu",
        "outputId": "f5ffcd35-655e-4798-a6da-f6bab284c7a5"
      },
      "execution_count": null,
      "outputs": [
        {
          "output_type": "stream",
          "name": "stdout",
          "text": [
            "TF-IDF training data shape: (299, 1173)\n",
            "TF-IDF test data shape: (75, 1173)\n"
          ]
        }
      ]
    },
    {
      "cell_type": "code",
      "source": [
        "# Define the neural network architecture\n",
        "model = Sequential()\n",
        "model.add(Dense(128, activation='relu', input_shape=(X_train_tfidf.shape[1],)))\n",
        "model.add(Dropout(0.3))\n",
        "model.add(Dense(64, activation='relu'))\n",
        "model.add(Dropout(0.3))\n",
        "model.add(Dense(len(le.classes_), activation='softmax'))\n",
        "\n",
        "# Compile the model\n",
        "model.compile(\n",
        "    optimizer='adam',\n",
        "    loss='sparse_categorical_crossentropy',\n",
        "    metrics=['accuracy']\n",
        ")\n",
        "\n",
        "# Train the model\n",
        "history = model.fit(\n",
        "    X_train_tfidf.toarray(),\n",
        "    y_train,\n",
        "    epochs=10,\n",
        "    batch_size=32,\n",
        "    validation_split=0.1,\n",
        "    verbose=1\n",
        ")\n"
      ],
      "metadata": {
        "colab": {
          "base_uri": "https://localhost:8080/"
        },
        "id": "u2jeLEhvtbb0",
        "outputId": "17c5c513-e83d-469a-a409-77e0b58095fb"
      },
      "execution_count": null,
      "outputs": [
        {
          "output_type": "stream",
          "name": "stderr",
          "text": [
            "/usr/local/lib/python3.11/dist-packages/keras/src/layers/core/dense.py:87: UserWarning: Do not pass an `input_shape`/`input_dim` argument to a layer. When using Sequential models, prefer using an `Input(shape)` object as the first layer in the model instead.\n",
            "  super().__init__(activity_regularizer=activity_regularizer, **kwargs)\n"
          ]
        },
        {
          "output_type": "stream",
          "name": "stdout",
          "text": [
            "Epoch 1/10\n",
            "\u001b[1m9/9\u001b[0m \u001b[32m━━━━━━━━━━━━━━━━━━━━\u001b[0m\u001b[37m\u001b[0m \u001b[1m3s\u001b[0m 62ms/step - accuracy: 0.1360 - loss: 1.9464 - val_accuracy: 0.4667 - val_loss: 1.9016\n",
            "Epoch 2/10\n",
            "\u001b[1m9/9\u001b[0m \u001b[32m━━━━━━━━━━━━━━━━━━━━\u001b[0m\u001b[37m\u001b[0m \u001b[1m1s\u001b[0m 61ms/step - accuracy: 0.3872 - loss: 1.8917 - val_accuracy: 0.4333 - val_loss: 1.8431\n",
            "Epoch 3/10\n",
            "\u001b[1m9/9\u001b[0m \u001b[32m━━━━━━━━━━━━━━━━━━━━\u001b[0m\u001b[37m\u001b[0m \u001b[1m0s\u001b[0m 35ms/step - accuracy: 0.4661 - loss: 1.8198 - val_accuracy: 0.4333 - val_loss: 1.7623\n",
            "Epoch 4/10\n",
            "\u001b[1m9/9\u001b[0m \u001b[32m━━━━━━━━━━━━━━━━━━━━\u001b[0m\u001b[37m\u001b[0m \u001b[1m1s\u001b[0m 25ms/step - accuracy: 0.4360 - loss: 1.7347 - val_accuracy: 0.4333 - val_loss: 1.6549\n",
            "Epoch 5/10\n",
            "\u001b[1m9/9\u001b[0m \u001b[32m━━━━━━━━━━━━━━━━━━━━\u001b[0m\u001b[37m\u001b[0m \u001b[1m0s\u001b[0m 20ms/step - accuracy: 0.5409 - loss: 1.5849 - val_accuracy: 0.5000 - val_loss: 1.5045\n",
            "Epoch 6/10\n",
            "\u001b[1m9/9\u001b[0m \u001b[32m━━━━━━━━━━━━━━━━━━━━\u001b[0m\u001b[37m\u001b[0m \u001b[1m0s\u001b[0m 21ms/step - accuracy: 0.5927 - loss: 1.4172 - val_accuracy: 0.6000 - val_loss: 1.3197\n",
            "Epoch 7/10\n",
            "\u001b[1m9/9\u001b[0m \u001b[32m━━━━━━━━━━━━━━━━━━━━\u001b[0m\u001b[37m\u001b[0m \u001b[1m0s\u001b[0m 25ms/step - accuracy: 0.6440 - loss: 1.2380 - val_accuracy: 0.6333 - val_loss: 1.1200\n",
            "Epoch 8/10\n",
            "\u001b[1m9/9\u001b[0m \u001b[32m━━━━━━━━━━━━━━━━━━━━\u001b[0m\u001b[37m\u001b[0m \u001b[1m0s\u001b[0m 26ms/step - accuracy: 0.7261 - loss: 1.0168 - val_accuracy: 0.7667 - val_loss: 0.9283\n",
            "Epoch 9/10\n",
            "\u001b[1m9/9\u001b[0m \u001b[32m━━━━━━━━━━━━━━━━━━━━\u001b[0m\u001b[37m\u001b[0m \u001b[1m0s\u001b[0m 13ms/step - accuracy: 0.7850 - loss: 0.8699 - val_accuracy: 0.9000 - val_loss: 0.7515\n",
            "Epoch 10/10\n",
            "\u001b[1m9/9\u001b[0m \u001b[32m━━━━━━━━━━━━━━━━━━━━\u001b[0m\u001b[37m\u001b[0m \u001b[1m0s\u001b[0m 13ms/step - accuracy: 0.8890 - loss: 0.6118 - val_accuracy: 0.9000 - val_loss: 0.6143\n"
          ]
        }
      ]
    },
    {
      "cell_type": "code",
      "source": [
        "# Evaluate on test set\n",
        "test_loss, test_accuracy = model.evaluate(X_test_tfidf.toarray(), y_test)\n",
        "print(\"Test accuracy:\", test_accuracy)\n",
        "\n",
        "# Generate predictions\n",
        "y_pred = model.predict(X_test_tfidf.toarray())\n",
        "y_pred_class = np.argmax(y_pred, axis=1)\n",
        "\n",
        "print(\"\\nClassification Report on Test Set:\\n\",\n",
        "      classification_report(y_test, y_pred_class, target_names=le.classes_))\n",
        "print(\"Accuracy Score:\", accuracy_score(y_test, y_pred_class))\n",
        "\n",
        "# Confusion matrix\n",
        "cm = confusion_matrix(y_test, y_pred_class)\n",
        "plt.figure(figsize=(10, 8))\n",
        "plt.imshow(cm, interpolation='nearest', cmap=plt.cm.Blues)\n",
        "plt.title(\"Confusion Matrix\")\n",
        "plt.colorbar()\n",
        "tick_marks = np.arange(len(le.classes_))\n",
        "plt.xticks(tick_marks, le.classes_, rotation=45)\n",
        "plt.yticks(tick_marks, le.classes_)\n",
        "thresh = cm.max() / 2.\n",
        "for i in range(cm.shape[0]):\n",
        "    for j in range(cm.shape[1]):\n",
        "        plt.text(j, i, format(cm[i, j], 'd'),\n",
        "                 horizontalalignment=\"center\",\n",
        "                 color=\"white\" if cm[i, j] > thresh else \"black\")\n",
        "plt.ylabel('True Label')\n",
        "plt.xlabel('Predicted Label')\n",
        "plt.tight_layout()\n",
        "plt.show()\n"
      ],
      "metadata": {
        "colab": {
          "base_uri": "https://localhost:8080/",
          "height": 1000
        },
        "id": "Mk4cAiBitgD4",
        "outputId": "65f41a6c-4e87-4a27-883d-9a60aee9dc97"
      },
      "execution_count": null,
      "outputs": [
        {
          "output_type": "stream",
          "name": "stdout",
          "text": [
            "\u001b[1m3/3\u001b[0m \u001b[32m━━━━━━━━━━━━━━━━━━━━\u001b[0m\u001b[37m\u001b[0m \u001b[1m0s\u001b[0m 108ms/step - accuracy: 0.8051 - loss: 0.7280\n",
            "Test accuracy: 0.8133333325386047\n",
            "\u001b[1m3/3\u001b[0m \u001b[32m━━━━━━━━━━━━━━━━━━━━\u001b[0m\u001b[37m\u001b[0m \u001b[1m0s\u001b[0m 53ms/step\n",
            "\n",
            "Classification Report on Test Set:\n",
            "                 precision    recall  f1-score   support\n",
            "\n",
            "         ابطال       0.95      0.95      0.95        22\n",
            " ثبت نام حقیقی       0.80      0.40      0.53        10\n",
            "        دارایی       0.00      0.00      0.00         1\n",
            "           سود       0.83      0.83      0.83        12\n",
            "          صدور       0.71      0.95      0.82        21\n",
            "پروفایل کاربری       0.00      0.00      0.00         2\n",
            "     گردش حساب       0.75      0.86      0.80         7\n",
            "\n",
            "      accuracy                           0.81        75\n",
            "     macro avg       0.58      0.57      0.56        75\n",
            "  weighted avg       0.79      0.81      0.79        75\n",
            "\n",
            "Accuracy Score: 0.8133333333333334\n"
          ]
        },
        {
          "output_type": "stream",
          "name": "stderr",
          "text": [
            "/usr/local/lib/python3.11/dist-packages/sklearn/metrics/_classification.py:1565: UndefinedMetricWarning: Precision is ill-defined and being set to 0.0 in labels with no predicted samples. Use `zero_division` parameter to control this behavior.\n",
            "  _warn_prf(average, modifier, f\"{metric.capitalize()} is\", len(result))\n",
            "/usr/local/lib/python3.11/dist-packages/sklearn/metrics/_classification.py:1565: UndefinedMetricWarning: Precision is ill-defined and being set to 0.0 in labels with no predicted samples. Use `zero_division` parameter to control this behavior.\n",
            "  _warn_prf(average, modifier, f\"{metric.capitalize()} is\", len(result))\n",
            "/usr/local/lib/python3.11/dist-packages/sklearn/metrics/_classification.py:1565: UndefinedMetricWarning: Precision is ill-defined and being set to 0.0 in labels with no predicted samples. Use `zero_division` parameter to control this behavior.\n",
            "  _warn_prf(average, modifier, f\"{metric.capitalize()} is\", len(result))\n"
          ]
        },
        {
          "output_type": "display_data",
          "data": {
            "text/plain": [
              "<Figure size 1000x800 with 2 Axes>"
            ],
            "image/png": "[encoded data removed]"
          },
          "metadata": {}
        }
      ]
    },
    {
      "cell_type": "code",
      "source": [
        "# Save the Keras model\n",
        "model.save('farsi_classification_model.h5')\n",
        "\n",
        "# Save TF-IDF and LabelEncoder with joblib\n",
        "joblib.dump(tfidf, 'tfidf_vectorizer.pkl')\n",
        "joblib.dump(le, 'label_encoder.pkl')\n"
      ],
      "metadata": {
        "colab": {
          "base_uri": "https://localhost:8080/"
        },
        "id": "-rcsg77FtkGP",
        "outputId": "0986b378-416e-451a-a0bc-9fe4d85f785f"
      },
      "execution_count": null,
      "outputs": [
        {
          "output_type": "stream",
          "name": "stderr",
          "text": [
            "WARNING:absl:You are saving your model as an HDF5 file via `model.save()` or `keras.saving.save_model(model)`. This file format is considered legacy. We recommend using instead the native Keras format, e.g. `model.save('my_model.keras')` or `keras.saving.save_model(model, 'my_model.keras')`. \n"
          ]
        },
        {
          "output_type": "execute_result",
          "data": {
            "text/plain": [
              "['label_encoder.pkl']"
            ]
          },
          "metadata": {},
          "execution_count": 6
        }
      ]
    },
    {
      "cell_type": "code",
      "source": [
        "from tensorflow.keras.models import load_model\n",
        "\n",
        "loaded_model = load_model('farsi_classification_model.h5')\n",
        "loaded_tfidf = joblib.load('tfidf_vectorizer.pkl')\n",
        "loaded_le = joblib.load('label_encoder.pkl')\n"
      ],
      "metadata": {
        "colab": {
          "base_uri": "https://localhost:8080/"
        },
        "id": "LfemU-cstp1a",
        "outputId": "6fc75ed8-1cd0-4c41-e466-47fd695c0184"
      },
      "execution_count": null,
      "outputs": [
        {
          "output_type": "stream",
          "name": "stderr",
          "text": [
            "WARNING:absl:Compiled the loaded model, but the compiled metrics have yet to be built. `model.compile_metrics` will be empty until you train or evaluate the model.\n"
          ]
        }
      ]
    },
    {
      "cell_type": "code",
      "source": [
        "new_texts = [\n",
        "    \"نحوه محاسبه سود صندوق را اعلام کنید؟\",\n",
        "    \"کی سود نیکوکاری رویان را میریزید؟\",\n",
        "    \"امروز هم ابطال بزنم سود رو می‌گیرم؟\"\n",
        "]\n",
        "\n",
        "# 1) Clean the new texts\n",
        "new_texts_cleaned = [clean_text_farsi(txt) for txt in new_texts]\n",
        "\n",
        "# 2) Convert them to TF-IDF vectors\n",
        "new_texts_tfidf = loaded_tfidf.transform(new_texts_cleaned).toarray()\n",
        "\n",
        "# 3) Predict with the loaded model\n",
        "predictions = loaded_model.predict(new_texts_tfidf)\n",
        "predicted_classes = np.argmax(predictions, axis=1)\n",
        "\n",
        "# 4) Decode label indices back to original label strings\n",
        "predicted_labels = [loaded_le.inverse_transform([cls])[0] for cls in predicted_classes]\n",
        "\n",
        "print(\"Predicted labels:\", predicted_labels)\n"
      ],
      "metadata": {
        "colab": {
          "base_uri": "https://localhost:8080/"
        },
        "id": "rO-uutMCtsXV",
        "outputId": "7c7c75f1-a717-4761-d220-567194474668"
      },
      "execution_count": null,
      "outputs": [
        {
          "output_type": "stream",
          "name": "stdout",
          "text": [
            "\u001b[1m1/1\u001b[0m \u001b[32m━━━━━━━━━━━━━━━━━━━━\u001b[0m\u001b[37m\u001b[0m \u001b[1m0s\u001b[0m 41ms/step\n",
            "Predicted labels: ['سود', 'سود', 'سود']\n"
          ]
        }
      ]
    },
    {
      "cell_type": "code",
      "source": [
        "# Load model and associated objects\n",
        "loaded_model = load_model('farsi_classification_model.h5')\n",
        "loaded_tfidf = joblib.load('tfidf_vectorizer.pkl')\n",
        "loaded_le = joblib.load('label_encoder.pkl')\n",
        "\n",
        "def predict_with_threshold(texts, threshold=0.7):\n",
        "    \"\"\"\n",
        "    Predict multiple possible classes if probabilities exceed 'threshold'.\n",
        "    Otherwise, fallback to the single highest-probability class.\n",
        "    \"\"\"\n",
        "\n",
        "    # Clean texts\n",
        "    cleaned = [clean_text_farsi(t) for t in texts]\n",
        "\n",
        "    # TF-IDF transform\n",
        "    X_tfidf = loaded_tfidf.transform(cleaned).toarray()\n",
        "\n",
        "    # Predict probabilities\n",
        "    probs = loaded_model.predict(X_tfidf)  # shape: (num_texts, num_classes)\n",
        "\n",
        "    all_predicted_labels = []\n",
        "    for row in probs:\n",
        "        # Indices of classes whose prob > threshold\n",
        "        high_conf_indices = np.where(row > threshold)[0]\n",
        "\n",
        "        if len(high_conf_indices) == 0:\n",
        "            # No class passes threshold => pick top-1\n",
        "            top1_idx = np.argmax(row)\n",
        "            all_predicted_labels.append([loaded_le.inverse_transform([top1_idx])[0]])\n",
        "        else:\n",
        "            # Return all classes passing threshold\n",
        "            predicted_label_names = loaded_le.inverse_transform(high_conf_indices)\n",
        "            all_predicted_labels.append(list(predicted_label_names))\n",
        "\n",
        "    return all_predicted_labels\n",
        "\n",
        "# Example usage:\n",
        "new_texts = [\n",
        "    \"نحوه محاسبه سود صندوق را اعلام کنید؟\",\n",
        "    \"کی سود نیکوکاری رویان را میریزید؟\",\n",
        "    \"امروز هم ابطال بزنم سود رو می‌گیرم؟\"\n",
        "]\n",
        "\n",
        "predictions_thresholded = predict_with_threshold(new_texts, threshold=0.3)\n",
        "for text, preds in zip(new_texts, predictions_thresholded):\n",
        "    print(\"Text:\", text)\n",
        "    print(\"Predicted label(s):\", preds)\n",
        "    print(\"-\" * 50)\n"
      ],
      "metadata": {
        "colab": {
          "base_uri": "https://localhost:8080/"
        },
        "id": "ZHMtSKUnCAl9",
        "outputId": "e98e0430-c834-422e-fdd1-3ba6bd696a3c"
      },
      "execution_count": null,
      "outputs": [
        {
          "output_type": "stream",
          "name": "stderr",
          "text": [
            "WARNING:absl:Compiled the loaded model, but the compiled metrics have yet to be built. `model.compile_metrics` will be empty until you train or evaluate the model.\n"
          ]
        },
        {
          "output_type": "stream",
          "name": "stdout",
          "text": [
            "\u001b[1m1/1\u001b[0m \u001b[32m━━━━━━━━━━━━━━━━━━━━\u001b[0m\u001b[37m\u001b[0m \u001b[1m0s\u001b[0m 88ms/step\n",
            "Text: نحوه محاسبه سود صندوق را اعلام کنید؟\n",
            "Predicted label(s): ['سود']\n",
            "--------------------------------------------------\n",
            "Text: کی سود نیکوکاری رویان را میریزید؟\n",
            "Predicted label(s): ['سود']\n",
            "--------------------------------------------------\n",
            "Text: امروز هم ابطال بزنم سود رو می‌گیرم؟\n",
            "Predicted label(s): ['سود']\n",
            "--------------------------------------------------\n"
          ]
        }
      ]
    }
  ]
}